{
  "nbformat": 4,
  "nbformat_minor": 0,
  "metadata": {
    "colab": {
      "provenance": [],
      "authorship_tag": "ABX9TyN36B6aNupXsQ8VbHYN07G4",
      "include_colab_link": true
    },
    "kernelspec": {
      "name": "python3",
      "display_name": "Python 3"
    },
    "language_info": {
      "name": "python"
    }
  },
  "cells": [
    {
      "cell_type": "markdown",
      "metadata": {
        "id": "view-in-github",
        "colab_type": "text"
      },
      "source": [
        "<a href=\"https://colab.research.google.com/github/mronhemrdpgimer-dotcom/pythonclass/blob/main/Untitled5.ipynb\" target=\"_parent\"><img src=\"https://colab.research.google.com/assets/colab-badge.svg\" alt=\"Open In Colab\"/></a>"
      ]
    },
    {
      "cell_type": "code",
      "execution_count": null,
      "metadata": {
        "colab": {
          "base_uri": "https://localhost:8080/"
        },
        "id": "ecyrGcAd7sJ9",
        "outputId": "6a799d88-36c2-4061-993c-2b469d94f236"
      },
      "outputs": [
        {
          "output_type": "stream",
          "name": "stdout",
          "text": [
            "enter order for burger:100\n",
            "enter order for pizza:1000\n",
            "enter order for momos:0\n",
            "enter order for noodles:0\n",
            "enter order for coke:0\n",
            "enter order for salad:100\n",
            "enter order for coffee:200\n",
            "1400\n",
            "the discount is: 140.0\n",
            "the net_bill is: 1260.0\n"
          ]
        }
      ],
      "source": [
        "\"\"\"Bill Counter in the Restaurant\"\"\"\n",
        "#Menu: Burger, Pizza, Momos, Noodles, Coke, salad, coffee\n",
        "burger=int(input(\"enter order for burger:\"))\n",
        "pizza=int(input(\"enter order for pizza:\"))\n",
        "momos=int(input(\"enter order for momos:\"))\n",
        "noodles=int(input(\"enter order for noodles:\"))\n",
        "coke=int(input(\"enter order for coke:\"))\n",
        "salad=int(input(\"enter order for salad:\"))\n",
        "coffee=int(input(\"enter order for coffee:\"))\n",
        "\n",
        "bill= burger+pizza+momos+noodles+coke+salad+coffee\n",
        "print(bill)\n",
        "\n",
        "if bill>1000:\n",
        "  discount= bill*0.10        # 10% discount above rs.1000\n",
        "  print(\"the discount is:\", discount)\n",
        "  net_bill = (bill-discount)\n",
        "\n",
        "  print(\"the net_bill is:\", net_bill)\n",
        "\n",
        "elif bill>500 and bill<1000:\n",
        "  discount= bill*0.05        #5% discount less than 1000 and above or equal to rs.500\n",
        "  print(\"the discount is:\",discount)\n",
        "  net_bill= (bill-discount)\n",
        "  print(\"the net_bill is:\", net_bill)\n",
        "else:\n",
        "  discount= bill*0.03        #3% discount less than rs.500\n",
        "  print(\"the discount is:\", discount)\n",
        "  net_bill= (bill-discount)\n",
        "  print(\"the net_bill is:\", net_bill)\n"
      ]
    },
    {
      "cell_type": "code",
      "source": [
        "gender=input(\"enter the gender:\")\n",
        "\n",
        "age=int(input(\"enter the age:\"))\n",
        "\n",
        "if gender==\"male\":\n",
        "  print(\"block A\")\n",
        "  if age<=30 and age>0:\n",
        "    print(\"building A\")\n",
        "  elif age>30:\n",
        "    print(\"building B\")\n",
        "\n",
        "elif gender==\"female\":\n",
        "    print(\"block B\")\n",
        "    if age<=30 and age>0:\n",
        "      print(\"building A\")\n",
        "    elif age>30:\n",
        "      print(\"building B\")\n",
        "else:\n",
        "  print(\"enter the valid input\")"
      ],
      "metadata": {
        "colab": {
          "base_uri": "https://localhost:8080/"
        },
        "id": "1DGmWFZ-7uxF",
        "outputId": "0b9ec14f-57ec-47ee-a165-8c3bcbb656e1"
      },
      "execution_count": null,
      "outputs": [
        {
          "output_type": "stream",
          "name": "stdout",
          "text": [
            "enter the gender:male\n",
            "enter the age:30\n",
            "block A\n",
            "building A\n"
          ]
        }
      ]
    },
    {
      "cell_type": "code",
      "source": [
        "# Result\n",
        "student_marks=int(input(\"enter the marks:\"))\n",
        "if student_marks>=90:\n",
        "  print(\"topper\")\n",
        "elif student_marks>=75 and student_marks<90:\n",
        "  print(\"distinct\")\n",
        "elif student_marks>=60 and student_marks<75:\n",
        "  print(\"very good\")\n",
        "\n",
        "\n",
        "if student_marks>=60: # Student obtains marks above 60, result equal to first division\n",
        "  print(\"First_Division\")\n",
        "\n",
        "elif student_marks>=45 and student_marks<60: # Student obtains marks greater than 45 and less than 60, result equal to second division\n",
        "  print(\"Second_Division\")\n",
        "\n",
        "elif student_marks>=30 and student_marks<45: # Student obtains marks greater than 30 and less than 45, result equal to third division\n",
        "  print(\"Third_Division\")\n",
        "\n",
        "else:\n",
        "  print(\"Fail\") # Student obtains marks less than 30, result equal to fail"
      ],
      "metadata": {
        "colab": {
          "base_uri": "https://localhost:8080/"
        },
        "id": "CIft-w--75nM",
        "outputId": "2a8555ef-027d-4033-bee7-1eb6cf5cdf9b"
      },
      "execution_count": null,
      "outputs": [
        {
          "output_type": "stream",
          "name": "stdout",
          "text": [
            "enter the marks:92\n",
            "topper\n",
            "First_Division\n"
          ]
        }
      ]
    },
    {
      "cell_type": "code",
      "source": [
        "a= 10 # declaring first no.\n",
        "b= 5 # declaring second no.\n",
        "c= a+b # perform addition function\n",
        "print(c) # displaying result\n",
        "\n",
        "\n",
        "\n",
        "a= 15 # declaring first no.\n",
        "b= 8 # declaring second no.\n",
        "c= a-b # perform substration function\n",
        "print (c) # displaying result\n",
        "\n",
        "a= int(input(\"enter first no:\" ))\n",
        "b= int(input(\"enter second no:\" ))\n",
        "c= a+b\n",
        "print(\"the sum of a and b is:\", c)\n",
        "\n",
        "\n",
        "a= int(input(\"enter first no\"))\n",
        "b= int(input(\"enter second no\"))\n",
        "c= b-a\n",
        "print(\"the difference between b and a is:\", c)\n",
        "\n",
        "\n",
        "\n",
        "a= 4\n",
        "b= 7\n",
        "c= 9\n",
        "d= a+b+c\n",
        "print(d)\n",
        "\n",
        "\n",
        "a= 20\n",
        "b= 5\n",
        "c= 3\n",
        "d= a-b-c\n",
        "print (d)\n",
        "\n",
        "a= 10\n",
        "b= -4\n",
        "c= a+b\n",
        "print (c)\n",
        "\n",
        "\n",
        "a= 10\n",
        "b= -4\n",
        "c= a-b\n",
        "print (c)"
      ],
      "metadata": {
        "id": "MWGScvCe-iVn",
        "colab": {
          "base_uri": "https://localhost:8080/"
        },
        "outputId": "96a0ec8e-adb3-42a3-b0cc-10778d3fc2bf"
      },
      "execution_count": null,
      "outputs": [
        {
          "output_type": "stream",
          "name": "stdout",
          "text": [
            "15\n",
            "7\n",
            "enter first no10\n",
            "enter second no20\n",
            "the sum of a and b is: 30\n",
            "enter first no10\n",
            "enter second no20\n",
            "the difference between b and a is: 10\n",
            "20\n",
            "12\n",
            "6\n",
            "14\n"
          ]
        }
      ]
    },
    {
      "cell_type": "code",
      "source": [
        "# to calculat simple interest\n",
        "P=1000      # principal amount\n",
        "R=4         # 4% rate of interest on the amount\n",
        "T=1         # for the period of one month\n",
        "Int=P*R*T/100\n",
        "print(\"Interest of Principal amount is:\",Int)\n",
        "amount=P+Int\n",
        "print(\"The total amount is:\",amount)\n"
      ],
      "metadata": {
        "id": "CB6IaQFG-jKu",
        "colab": {
          "base_uri": "https://localhost:8080/"
        },
        "outputId": "31535cd7-89da-4f3a-a357-2f8c2f4d3e50"
      },
      "execution_count": null,
      "outputs": [
        {
          "output_type": "stream",
          "name": "stdout",
          "text": [
            "Interest of Principal amount is: 40.0\n",
            "The total amount is: 1040.0\n"
          ]
        }
      ]
    },
    {
      "cell_type": "code",
      "source": [
        "# to calculat simple interest\n",
        "P=int(input(\"enter the principal amount:\"))      # principal amount\n",
        "R=int(input(\"enter the rate of interest:\"))      # rate of interest on the principal amount\n",
        "T=int(input(\"enter the period of time:\"))        # for the period of time in a month\n",
        "Int=P*R*T/100\n",
        "print(\"Interest for the period of time is:\",Int)\n",
        "amount=(P+Int)\n",
        "print(\"The total amount is:\",amount)\n"
      ],
      "metadata": {
        "colab": {
          "base_uri": "https://localhost:8080/"
        },
        "id": "goPZrNfpbOC9",
        "outputId": "40f44e7b-105f-414b-fa61-e577668adc48"
      },
      "execution_count": null,
      "outputs": [
        {
          "output_type": "stream",
          "name": "stdout",
          "text": [
            "enter the principal amount:1000\n",
            "enter the rate of interest:4\n",
            "enter the period of time:6\n",
            "Interest for the period of time is: 240.0\n",
            "The total amount is: 1240.0\n"
          ]
        }
      ]
    },
    {
      "cell_type": "code",
      "source": [
        "#product on sale, watch/tv/mobile/laptop\n",
        "\n",
        "watch= 5000\n",
        "tv= 20000\n",
        "mobile= 25000\n",
        "laptop= 50000\n",
        "coupen= 10000\n",
        "\n",
        "total_bill=watch+tv+mobile+laptop\n",
        "\n",
        "product1=int(input(\"enter the quantity of watch:\"))\n",
        "\n",
        "if product1 >= 2:\n",
        "  discount= watch*0.10\n",
        "  print(\"the discount on watch is:\", discount)\n",
        "  net_price1 = watch*product1-discount*product1\n",
        "  print(net_price1)\n",
        "elif watch ==1:\n",
        "  print(\"you are not eligible for discount\")\n",
        "\n",
        "product2=int(input(\"enter the quantity of tv:\"))\n",
        "\n",
        "if product2 >= 2:\n",
        "  discount=tv*0.07\n",
        "  print(\"the discount on tv is:\", discount)\n",
        "  net_price2 = tv*product2-discount*product2\n",
        "  print(net_price2)\n",
        "elif tv==1:\n",
        "  print(\"you are not eligible for discount\")\n",
        "\n",
        "product3=int(input(\"enter the quantity of mobile:\"))\n",
        "\n",
        "if product3 >= 2:\n",
        "  discount=mobile*0.05\n",
        "  print(\"the discount on mobile is:\", discount)\n",
        "  net_price3 = mobile*product3-discount*product3\n",
        "  print(net_price3)\n",
        "\n",
        "elif mobile==1:\n",
        "  print(\"you are not eligible for discount\")\n",
        "\n",
        "product4=int(input(\"enter the quantity of laptop:\"))\n",
        "\n",
        "if product4 >=2:\n",
        "  discount=laptop*0.03\n",
        "  print(\"the discount on laptop is:\", discount)\n",
        "  net_price4 = laptop*product4-discount*product4\n",
        "  print(net_price4)\n",
        "\n",
        "elif product4==1:\n",
        "  print(laptop)\n",
        "\n",
        "else:\n",
        "   print(\"all the elctronic items are not for sale\\n your are eligible for coupen\")\n",
        "\n",
        "final_bill = (net_price1+net_price2+net_price3+net_price4)-coupen\n",
        "\n",
        "print(\"final_bill is your payable amount:\", final_bill)\n"
      ],
      "metadata": {
        "id": "FfSuF10pCZW0",
        "colab": {
          "base_uri": "https://localhost:8080/"
        },
        "outputId": "04c6c56c-c9d1-48de-bfb8-f0186f77e36d"
      },
      "execution_count": null,
      "outputs": [
        {
          "output_type": "stream",
          "name": "stdout",
          "text": [
            "enter the quantity of watch:4\n",
            "the discount on watch is: 500.0\n",
            "18000.0\n",
            "enter the quantity of tv:2\n",
            "the discount on tv is: 1400.0000000000002\n",
            "37200.0\n",
            "enter the quantity of mobile:3\n",
            "the discount on mobile is: 1250.0\n",
            "71250.0\n",
            "enter the quantity of laptop:0\n",
            "all the elctronic items are not for sale\n",
            " your are eligible for coupen\n",
            "final_bill is your payable amount: 213450.0\n"
          ]
        }
      ]
    },
    {
      "cell_type": "code",
      "source": [
        "# to calculat simple interest\n",
        "p=int(input(\"enter the principal amount:\"))      # principal amount\n",
        "r=int(input(\"enter the rate of interest:\"))      # rate of interest on the principal amount\n",
        "t1=float(input(\"enter the period in months:\"))   # for the period in a month and days\n",
        "t2= float(input(\"enter the period in days:\"))\n",
        "t3=t2/30\n",
        "si_month = p*r*t1/100\n",
        "si_day =  p*r*t3/100\n",
        "print(si_month + si_day)"
      ],
      "metadata": {
        "colab": {
          "base_uri": "https://localhost:8080/"
        },
        "id": "6OkOMQCtRd-y",
        "outputId": "47458fe6-f12c-489c-eb01-e4bd056ed89c"
      },
      "execution_count": null,
      "outputs": [
        {
          "output_type": "stream",
          "name": "stdout",
          "text": [
            "enter the principal amount:1000\n",
            "enter the rate of interest:5\n",
            "enter the period in months:1\n",
            "enter the period in days:15\n",
            "75.0\n"
          ]
        }
      ]
    },
    {
      "cell_type": "code",
      "source": [
        "# to calculat simple interest\n",
        "p=int(input(\"enter the principal amount:\"))      # principal amount\n",
        "r=int(input(\"enter the rate of interest:\"))      # rate of interest on the principal amount\n",
        "d=float(input(\"enter the period in days:\"))      # for the period in a month and days\n",
        "m=int(input(\"enter the period of months:\"))\n",
        "\n",
        "if d== 31:                                        # Jan,March,May,July,Aug,Oct,Dec\n",
        "  print(\"month has 31 days\")\n",
        "  t=31/365\n",
        "\n",
        "elif d==30:                                       # April,June,Sept,Nov\n",
        "  print(\"month has 30 days\")\n",
        "  t=30/365\n",
        "\n",
        "elif d<=29:                                       # Feb\n",
        "  print(\"month has 28 days or 29 days\")\n",
        "  t=29/365\n",
        "\n",
        "else:\n",
        "  print(\"invalid input\")\n",
        "\n",
        "si= p*r*t/100\n",
        "\n",
        "print(si)\n",
        "\n",
        "amount= p + si\n",
        "\n",
        "t_amount = amount * m\n",
        "\n",
        "print(\"total amount to be paid:\", t_amount)\n"
      ],
      "metadata": {
        "colab": {
          "base_uri": "https://localhost:8080/"
        },
        "id": "cByU_SwNWpfz",
        "outputId": "b1ff3296-6379-48d4-97b6-fb196b001b67"
      },
      "execution_count": null,
      "outputs": [
        {
          "output_type": "stream",
          "name": "stdout",
          "text": [
            "enter the principal amount:1000\n",
            "enter the rate of interest:5\n",
            "enter the period in days:30\n",
            "enter the period of months:6\n",
            "month has 30 days\n",
            "4.10958904109589\n",
            "total amount pay in this month: 6024.657534246575\n"
          ]
        }
      ]
    },
    {
      "cell_type": "code",
      "source": [
        "p=int(input(\"enter the principal amount:\"))      # principal amount\n",
        "r=int(input(\"enter the rate of interest:\"))      # rate of interest on the principal amount\n",
        "d=int(input(\"enter the days in a month:\"))      # for the period in a month and days\n",
        "if d==31:\n",
        "  print(\"january/march/may/july/aug/oct/dec\")\n",
        "  t=31/365\n",
        "\n",
        "elif d==30:\n",
        "  print(\"april/june/sept/nov\")\n",
        "  t=30/365\n",
        "\n",
        "elif d==28:\n",
        "  print(\"feb\")\n",
        "  t=28/365\n",
        "\n",
        "else:\n",
        "  print(\"invalid input\")\n",
        "\n",
        "si= p*r*t/100\n",
        "\n",
        "print(si)\n",
        "\n",
        "amount= p + si\n",
        "\n",
        "print(\"total amount to be paid:\", amount)"
      ],
      "metadata": {
        "colab": {
          "base_uri": "https://localhost:8080/"
        },
        "id": "fKkr9JsSe3wD",
        "outputId": "aa032c96-ced2-47dd-a124-27892aee0475"
      },
      "execution_count": null,
      "outputs": [
        {
          "output_type": "stream",
          "name": "stdout",
          "text": [
            "enter the principal amount:1000\n",
            "enter the rate of interest:5\n",
            "enter the days in a month:31\n",
            "january/march/may/july/aug/oct/dec\n",
            "4.2465753424657535\n",
            "total amount to be paid: 1004.2465753424658\n"
          ]
        }
      ]
    },
    {
      "cell_type": "code",
      "source": [
        "p=int(input(\"enter the principal amount:\"))      # principal amount\n",
        "r=int(input(\"enter the rate of interest:\"))      # rate of interest on the principal amount\n",
        "t=int(input(\"enter the no. of months:\"))         # for the no. of months\n",
        "d=int(input(\"enter the days:\"))                  # for the no. of days\n",
        "m=input(\"enter the month:\")                      # name of the month\n",
        "\n",
        "\n",
        "\n",
        "if m==\"january\" or m==\"march\" or m==\"may\" or m==\"july\" or m==\"august\" or m==\"october\" or m==\"december\":\n",
        "    days = 31\n",
        "\n",
        "elif m==\"april\" or m==\"june\" or m==\"september\" or m==\"november\":\n",
        "     days = 30\n",
        "\n",
        "else:\n",
        "     days = 28\n",
        "\n",
        "dm=d/days\n",
        "si_days= p*r*dm/100\n",
        "si_month=p*r*t/100\n",
        "print(si_days +si_month)\n",
        "\n",
        "amount=(p*t)+(si_days+si_month)\n",
        "print(\"total amount to be paid:\", amount)\n"
      ],
      "metadata": {
        "colab": {
          "base_uri": "https://localhost:8080/"
        },
        "id": "p1iAK9FEluig",
        "outputId": "5c44428c-aa03-41c0-c7a2-5334ed1819b3"
      },
      "execution_count": null,
      "outputs": [
        {
          "output_type": "stream",
          "name": "stdout",
          "text": [
            "enter the principal amount:1000\n",
            "enter the rate of interest:5\n",
            "enter the no. of months:2\n",
            "enter the days:15\n",
            "enter the month:may\n",
            "124.19354838709677\n",
            "total amount to be paid: 2124.1935483870966\n"
          ]
        }
      ]
    },
    {
      "cell_type": "code",
      "source": [
        "p=int(input(\"enter the principal amount:\"))      # principal amount\n",
        "r=int(input(\"enter the rate of interest:\"))      # rate of interest on the principal amount\n",
        "t=int(input(\"enter the no. of months:\"))         # for the no. of months\n",
        "d=int(input(\"enter the days:\"))                  # for the no. of days\n",
        "m=input(\"enter the month:\")                      # in which month\n",
        "y=int(input(\"enter the year:\"))                  # in which year\n",
        "\n",
        "\n",
        "\n",
        "if m==\"january\" or m==\"march\" or m==\"may\" or m==\"july\" or m==\"august\" or m==\"october\" or m==\"december\":\n",
        "    days = 31\n",
        "\n",
        "elif m==\"april\" or m==\"june\" or m==\"september\" or m==\"november\":\n",
        "     days = 30\n",
        "\n",
        "else:\n",
        "\n",
        "  if y%4==0 and y%100!=0 or y%400==0:\n",
        "    days=29\n",
        "    print(\"leap year\")\n",
        "  else:\n",
        "    days=28\n",
        "\n",
        "dm=d/days\n",
        "si_days= p*r*dm/100\n",
        "si_month=p*r*t/100\n",
        "print(f\"simple interest to be paid:{si_days +si_month}\")\n",
        "\n",
        "amount=(p*t)+(si_days+si_month)\n",
        "print(\"total amount to be paid:\", amount)\n",
        "\n"
      ],
      "metadata": {
        "id": "Y_kXK3scgIGs",
        "colab": {
          "base_uri": "https://localhost:8080/"
        },
        "outputId": "18c18c64-4e70-4d71-e048-d26f228d3c6e"
      },
      "execution_count": null,
      "outputs": [
        {
          "output_type": "stream",
          "name": "stdout",
          "text": [
            "enter the principal amount:1000\n",
            "enter the rate of interest:5\n",
            "enter the no. of months:3\n",
            "enter the days:15\n",
            "enter the month:february\n",
            "enter the year:2040\n",
            "leap year\n",
            "simple interest to be paid:175.86206896551724\n",
            "total amount to be paid: 3175.862068965517\n"
          ]
        }
      ]
    },
    {
      "cell_type": "code",
      "source": [
        "side1=input(\"enter the side1:\")  # north_south, north_east, south_north, south_west\n",
        "side2=input(\"enter the side2:\")  # east_west, east_south, west_east, west_north\n",
        "traffic_light=input(\"enter the traffic_light signal:\")  # red,green,yellow\n",
        "\n",
        "if side1==\"north_south\" and side1==\"north_east\" and side1==\"south_north\" and side1==\"south_west\":\n",
        "  print(traffic_light)\n",
        "\n",
        "elif side2==\"east_west\" and side2==\"east_south\" and side2==\"west_east\" and side2==\"west_north\":\n",
        "  print(traffic_light)\n",
        "\n",
        "else:\n",
        "  print(\"enter valid input\")\n",
        "\n",
        "if side1==\"red\":\n",
        "  print(\"stop\")\n",
        "\n",
        "elif side2==\"green\":\n",
        "  print(\"go\")\n",
        "\n",
        "else:\n",
        "  print(\"slow\")\n",
        "\n",
        "if side1==\"green\":\n",
        "  print(\"go\")\n",
        "\n",
        "elif side2==\"red\":\n",
        "  print(\"stop\")\n",
        "\n",
        "elif traffic_light== \"yellow\":\n",
        "  print(\"slow\")\n",
        "else:\n",
        "  print(\"see\")\n"
      ],
      "metadata": {
        "id": "h7LtTS25u6tH",
        "colab": {
          "base_uri": "https://localhost:8080/"
        },
        "outputId": "a6ef6c16-0f3a-48a1-ba5a-934519c3d128"
      },
      "execution_count": null,
      "outputs": [
        {
          "output_type": "stream",
          "name": "stdout",
          "text": [
            "enter the side1:north_south\n",
            "enter the side2:west_east\n",
            "enter the traffic_light signal:green\n",
            "enter valid input\n",
            "slow\n",
            "see\n"
          ]
        }
      ]
    },
    {
      "cell_type": "code",
      "source": [
        "side1 = input(\"Enter the side1 (north_south, north_east, south_north, south_west):\")\n",
        "side2 = input(\"Enter the side2 (east_west, east_south, west_east, west_north):\")\n",
        "traffic_light=input(\"enter the traffic_light signal(red,green,yellow):\")\n",
        "\n",
        "if traffic_light==\"red\":\n",
        "  print(\"side1:stop\")\n",
        "  print(\"side2:go\")\n",
        "elif traffic_light==\"green\":\n",
        "  print(\"side1:go\")\n",
        "  print(\"side2:stop\")\n",
        "\n",
        "else:\n",
        "  print(\"slow\")\n"
      ],
      "metadata": {
        "id": "70aOfGYdJNdP",
        "colab": {
          "base_uri": "https://localhost:8080/"
        },
        "outputId": "1e368201-fe30-4821-888b-088a449a811e"
      },
      "execution_count": null,
      "outputs": [
        {
          "output_type": "stream",
          "name": "stdout",
          "text": [
            "Enter the side1 (north_south, north_east, south_north, south_west):north_south\n",
            "Enter the side2 (east_west, east_south, west_east, west_north):east_west\n",
            "enter the traffic_light signal(red,green,yellow):green\n",
            "side1:go\n",
            "side2:stop\n"
          ]
        }
      ]
    },
    {
      "cell_type": "code",
      "source": [
        "#even numbers\n",
        "for i in range(2,100,2):\n",
        " print(i)\n"
      ],
      "metadata": {
        "colab": {
          "base_uri": "https://localhost:8080/"
        },
        "id": "olvpkCbRRCsC",
        "outputId": "04992e89-a2f7-4fbe-8972-edebc623fe9f"
      },
      "execution_count": null,
      "outputs": [
        {
          "output_type": "stream",
          "name": "stdout",
          "text": [
            "2\n",
            "4\n",
            "6\n",
            "8\n",
            "10\n",
            "12\n",
            "14\n",
            "16\n",
            "18\n",
            "20\n",
            "22\n",
            "24\n",
            "26\n",
            "28\n",
            "30\n",
            "32\n",
            "34\n",
            "36\n",
            "38\n",
            "40\n",
            "42\n",
            "44\n",
            "46\n",
            "48\n",
            "50\n",
            "52\n",
            "54\n",
            "56\n",
            "58\n",
            "60\n",
            "62\n",
            "64\n",
            "66\n",
            "68\n",
            "70\n",
            "72\n",
            "74\n",
            "76\n",
            "78\n",
            "80\n",
            "82\n",
            "84\n",
            "86\n",
            "88\n",
            "90\n",
            "92\n",
            "94\n",
            "96\n",
            "98\n"
          ]
        }
      ]
    },
    {
      "cell_type": "code",
      "source": [
        "#odd numbers\n",
        "for i in range(1,100,2):\n",
        " print(i)"
      ],
      "metadata": {
        "colab": {
          "base_uri": "https://localhost:8080/"
        },
        "id": "6YaMDHLtSBGx",
        "outputId": "bff68eb7-4169-48d0-d8a5-23e8e1b6bafa"
      },
      "execution_count": null,
      "outputs": [
        {
          "output_type": "stream",
          "name": "stdout",
          "text": [
            "1\n",
            "3\n",
            "5\n",
            "7\n",
            "9\n",
            "11\n",
            "13\n",
            "15\n",
            "17\n",
            "19\n",
            "21\n",
            "23\n",
            "25\n",
            "27\n",
            "29\n",
            "31\n",
            "33\n",
            "35\n",
            "37\n",
            "39\n",
            "41\n",
            "43\n",
            "45\n",
            "47\n",
            "49\n",
            "51\n",
            "53\n",
            "55\n",
            "57\n",
            "59\n",
            "61\n",
            "63\n",
            "65\n",
            "67\n",
            "69\n",
            "71\n",
            "73\n",
            "75\n",
            "77\n",
            "79\n",
            "81\n",
            "83\n",
            "85\n",
            "87\n",
            "89\n",
            "91\n",
            "93\n",
            "95\n",
            "97\n",
            "99\n"
          ]
        }
      ]
    },
    {
      "cell_type": "code",
      "source": [
        "sum=0\n",
        "for i in range(1,101):\n",
        "  sum=sum+i\n",
        "print(sum)"
      ],
      "metadata": {
        "id": "PcZ3ISRvSQuf",
        "colab": {
          "base_uri": "https://localhost:8080/"
        },
        "outputId": "922df9f4-cf4c-4147-c836-e6368c816c4e"
      },
      "execution_count": null,
      "outputs": [
        {
          "output_type": "stream",
          "name": "stdout",
          "text": [
            "5050\n"
          ]
        }
      ]
    },
    {
      "cell_type": "code",
      "source": [
        "mul=1\n",
        "for i in range(1,11):\n",
        "  mul=mul*i\n",
        "print(mul)"
      ],
      "metadata": {
        "colab": {
          "base_uri": "https://localhost:8080/"
        },
        "id": "AUFmowJSfQuo",
        "outputId": "2565d163-e565-4b0e-d6e8-83699e965d6e"
      },
      "execution_count": null,
      "outputs": [
        {
          "output_type": "stream",
          "name": "stdout",
          "text": [
            "3628800\n"
          ]
        }
      ]
    },
    {
      "cell_type": "code",
      "source": [
        "mul=1\n",
        "for i in range (1,6):\n",
        "  mul=mul*i\n",
        "print(mul)"
      ],
      "metadata": {
        "colab": {
          "base_uri": "https://localhost:8080/"
        },
        "id": "dAUw39pyg45c",
        "outputId": "7a88a75d-14ea-491b-eb87-c10a191df8fe"
      },
      "execution_count": null,
      "outputs": [
        {
          "output_type": "stream",
          "name": "stdout",
          "text": [
            "120\n"
          ]
        }
      ]
    },
    {
      "cell_type": "code",
      "source": [
        "side1 = input(\"Enter the side1 (north_south, north_east, south_north, south_west):\")\n",
        "side2 = input(\"Enter the side2 (east_west, east_south, west_east, west_north):\")\n",
        "traffic_light=input(\"enter the traffic_light signal(red,green,yellow):\")\n",
        "go_time=int(input(\"green signal receivers can go:\"))\n",
        "stop_time=int(input(\"red signal receivers can stop for:\"))\n",
        "\n",
        "if traffic_light==\"red\":\n",
        "  print(\"side1:stop\")\n",
        "  print(\"side2:go\")\n",
        "\n",
        "  if side1==\"stop\":\n",
        "    print(\"wait for 10 sec\")\n",
        "  else:\n",
        "    print(\"go within a 15 sec\")\n",
        "\n",
        "elif traffic_light==\"green\":\n",
        "  print(\"side1:go\")\n",
        "  print(\"side2:stop\")\n",
        "  if side2==\"stop\":\n",
        "    print(\"wait for 15 sec\")\n",
        "  else:\n",
        "    print(\"go within a 10 sec\")\n",
        "\n",
        "else:\n",
        "  print(\"slow\")"
      ],
      "metadata": {
        "colab": {
          "base_uri": "https://localhost:8080/"
        },
        "id": "w_aAgpm2iqmP",
        "outputId": "e413a523-bff2-45f3-ce1d-18abe8d5b958"
      },
      "execution_count": null,
      "outputs": [
        {
          "output_type": "stream",
          "name": "stdout",
          "text": [
            "Enter the side1 (north_south, north_east, south_north, south_west):north_south\n",
            "Enter the side2 (east_west, east_south, west_east, west_north):east_west\n",
            "enter the traffic_light signal(red,green,yellow):green\n",
            "green signal receivers can go:10\n",
            "red signal receivers can stop for:15\n",
            "side1:go\n",
            "side2:stop\n",
            "go within a 10 sec\n"
          ]
        }
      ]
    },
    {
      "cell_type": "code",
      "source": [
        "#loop\n",
        "sum=0\n",
        "for i in range(1,11):\n",
        "  sum=sum+i*i\n",
        "\n",
        "print(sum)\n",
        "\n",
        "\n",
        "\n"
      ],
      "metadata": {
        "colab": {
          "base_uri": "https://localhost:8080/"
        },
        "id": "7bI_CmBZov7h",
        "outputId": "22e44802-ad40-4130-c72d-fece6dd912b4"
      },
      "execution_count": null,
      "outputs": [
        {
          "output_type": "stream",
          "name": "stdout",
          "text": [
            "385\n"
          ]
        }
      ]
    },
    {
      "cell_type": "code",
      "source": [
        "#loop\n",
        "sum=0\n",
        "for i in range(1,6):\n",
        "  sum=sum+i**2\n",
        "  print(sum)"
      ],
      "metadata": {
        "colab": {
          "base_uri": "https://localhost:8080/"
        },
        "id": "5YR4AAswqjm-",
        "outputId": "d0991af5-5024-45d3-c102-4e247394bc96"
      },
      "execution_count": null,
      "outputs": [
        {
          "output_type": "stream",
          "name": "stdout",
          "text": [
            "1\n",
            "5\n",
            "14\n",
            "30\n",
            "55\n"
          ]
        }
      ]
    },
    {
      "cell_type": "code",
      "source": [
        "#loop\n",
        "sum=0\n",
        "for i in range(1,11):\n",
        "  sum=sum+i**3\n",
        "print(sum)\n"
      ],
      "metadata": {
        "colab": {
          "base_uri": "https://localhost:8080/"
        },
        "id": "Yt5By7bFrOA0",
        "outputId": "88d043e0-6028-4d32-9b62-dc345a43c9c3"
      },
      "execution_count": null,
      "outputs": [
        {
          "output_type": "stream",
          "name": "stdout",
          "text": [
            "3025\n"
          ]
        }
      ]
    },
    {
      "cell_type": "code",
      "source": [
        "#loop\n",
        "mul=1\n",
        "for i in range(1,6):\n",
        "  mul=mul*i\n",
        "print(mul)\n"
      ],
      "metadata": {
        "colab": {
          "base_uri": "https://localhost:8080/"
        },
        "id": "FZXgOBQgrmc9",
        "outputId": "0dcee2b6-3cdf-4aa6-bfd3-da1272c27646"
      },
      "execution_count": null,
      "outputs": [
        {
          "output_type": "stream",
          "name": "stdout",
          "text": [
            "120\n"
          ]
        }
      ]
    },
    {
      "cell_type": "code",
      "source": [
        "#factorial\n",
        "fact=1\n",
        "sum=0\n",
        "for i in range(1,6):\n",
        "  fact=fact*i\n",
        "  sum=sum+fact\n",
        "print(sum)"
      ],
      "metadata": {
        "colab": {
          "base_uri": "https://localhost:8080/"
        },
        "id": "Snjd2I5puk9W",
        "outputId": "42277e46-cc4f-4c25-cca6-d489d89bd148"
      },
      "execution_count": null,
      "outputs": [
        {
          "output_type": "stream",
          "name": "stdout",
          "text": [
            "153\n"
          ]
        }
      ]
    }
  ]
}