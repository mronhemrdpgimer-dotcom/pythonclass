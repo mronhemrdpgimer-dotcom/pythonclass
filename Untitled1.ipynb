{
  "nbformat": 4,
  "nbformat_minor": 0,
  "metadata": {
    "colab": {
      "provenance": [],
      "authorship_tag": "ABX9TyOepuPrxrYbwKS9U2jIdmMS",
      "include_colab_link": true
    },
    "kernelspec": {
      "name": "python3",
      "display_name": "Python 3"
    },
    "language_info": {
      "name": "python"
    }
  },
  "cells": [
    {
      "cell_type": "markdown",
      "metadata": {
        "id": "view-in-github",
        "colab_type": "text"
      },
      "source": [
        "<a href=\"https://colab.research.google.com/github/mronhemrdpgimer-dotcom/pythonclass/blob/main/Untitled1.ipynb\" target=\"_parent\"><img src=\"https://colab.research.google.com/assets/colab-badge.svg\" alt=\"Open In Colab\"/></a>"
      ]
    },
    {
      "cell_type": "code",
      "execution_count": null,
      "metadata": {
        "colab": {
          "base_uri": "https://localhost:8080/"
        },
        "outputId": "a482af25-9091-4707-c770-5b0748ba25bd",
        "id": "9toSE4PmEhEj"
      },
      "outputs": [
        {
          "output_type": "stream",
          "name": "stdout",
          "text": [
            "the annual salary is 300000\n"
          ]
        }
      ],
      "source": [
        "salary= 25000\n",
        "annual_sal= salary*12\n",
        "print(\"the annual salary is\", annual_sal)\n",
        "\n",
        "\n"
      ]
    },
    {
      "cell_type": "code",
      "source": [
        "a= 30\n",
        "b= 20\n",
        "if a>b:\n",
        "  print(\"a is greater than b\")\n",
        "else:\n",
        "    print(\"b is greater than a\")\n",
        "\n"
      ],
      "metadata": {
        "colab": {
          "base_uri": "https://localhost:8080/"
        },
        "id": "fyLNwD1O1x79",
        "outputId": "d3d82cd0-876b-4f84-a38e-ef4fd6e7e713"
      },
      "execution_count": null,
      "outputs": [
        {
          "output_type": "stream",
          "name": "stdout",
          "text": [
            "a is greater than b\n"
          ]
        }
      ]
    },
    {
      "cell_type": "code",
      "execution_count": null,
      "metadata": {
        "colab": {
          "base_uri": "https://localhost:8080/"
        },
        "outputId": "1fcfa8a5-bebe-4442-e987-0431c62c3c3a",
        "id": "DnBfotg5Eqxh"
      },
      "outputs": [
        {
          "output_type": "stream",
          "name": "stdout",
          "text": [
            "the annual salary is 540000\n"
          ]
        }
      ],
      "source": [
        "salary= 45000\n",
        "annual_sal= salary*12\n",
        "print(\"the annual salary is\", annual_sal)\n"
      ]
    },
    {
      "cell_type": "code",
      "execution_count": null,
      "metadata": {
        "colab": {
          "base_uri": "https://localhost:8080/"
        },
        "outputId": "029cf556-0921-40b2-8831-a9b720a77035",
        "id": "9POXFyprE3h5"
      },
      "outputs": [
        {
          "output_type": "stream",
          "name": "stdout",
          "text": [
            "the annual salary is 600000\n"
          ]
        }
      ],
      "source": [
        "salary= 50000\n",
        "annual_sal= salary*12\n",
        "print(\"the annual salary is\", annual_sal)\n",
        "\n"
      ]
    },
    {
      "cell_type": "code",
      "execution_count": null,
      "metadata": {
        "colab": {
          "base_uri": "https://localhost:8080/"
        },
        "id": "iPwNFP2WDlcW",
        "outputId": "33719254-7391-488f-fa26-f8ddd8f6270a"
      },
      "outputs": [
        {
          "output_type": "stream",
          "name": "stdout",
          "text": [
            "enter the monthly salar40000\n",
            "the annual salary is 480000\n",
            "2800.0\n"
          ]
        }
      ],
      "source": [
        "\n",
        "salary= int(input(\"enter the monthly salary\"))\n",
        "annual_sal= salary*12\n",
        "print(\"the annual salary is\", annual_sal)\n",
        "if annual_sal>500000:\n",
        "  bonus=salary*10/100\n",
        "  print(bonus)\n",
        "elif annual_sal>400000 and annual_sal<500000:\n",
        "  bonus=salary*7/100\n",
        "  print(bonus)\n",
        "else:\n",
        "  bonus=salary*5/100\n",
        "  print(bonus)\n",
        "\n",
        "\n"
      ]
    },
    {
      "cell_type": "code",
      "source": [
        "phy= int(input(\"enter the marks of Physics\"))\n",
        "chem= int(input(\"enter the marks of Chemistry\"))\n",
        "math= int(input(\"enter the marks of Math\"))\n",
        "total= phy+chem+math\n",
        "print(total)\n",
        "per= total*100/300\n",
        "print(\"percentage of the students\", per)\n",
        "if per>85:\n",
        "  print(\"A+\")\n",
        "elif per>70 and per<85:\n",
        "  print(\"A\")\n",
        "else:\n",
        "  print(\"B\")\n",
        "\n",
        "\n",
        "\n",
        "\n",
        "\n"
      ],
      "metadata": {
        "colab": {
          "base_uri": "https://localhost:8080/"
        },
        "id": "GE8hOKHubHO4",
        "outputId": "9d64b73a-c317-46c0-9bae-7e352d3279dd"
      },
      "execution_count": null,
      "outputs": [
        {
          "output_type": "stream",
          "name": "stdout",
          "text": [
            "enter the marks of Physics77\n",
            "enter the marks of Chemistry88\n",
            "enter the marks of Math99\n",
            "264\n",
            "percentage of the students 88.0\n",
            "A+\n"
          ]
        }
      ]
    },
    {
      "cell_type": "code",
      "source": [
        "a= 30\n",
        "b= 40\n",
        "c= 50\n",
        "if a>=b and a>=c:\n",
        "  print(\"a is greater\")\n",
        "\n",
        "elif b>=a and b>=c:\n",
        "  print(\"b is greater\")\n",
        "\n",
        "else:\n",
        "  print(\"c is greater\")"
      ],
      "metadata": {
        "colab": {
          "base_uri": "https://localhost:8080/"
        },
        "id": "t1WEdfFuCOrZ",
        "outputId": "4ee0909f-caff-4a1e-b6c8-82f7d6a52fb1"
      },
      "execution_count": null,
      "outputs": [
        {
          "output_type": "stream",
          "name": "stdout",
          "text": [
            "c is greater\n"
          ]
        }
      ]
    },
    {
      "cell_type": "code",
      "source": [
        "a= int(input(\"enter the a price is:\"))\n",
        "b= int(input(\"enter the b price is:\"))\n",
        "c= int(input(\"enter the c price is:\"))\n",
        "bill= a+b+c\n",
        "\n",
        "if bill>1000:\n",
        "\n",
        "  discount= bill*0.10\n",
        "\n",
        "  print(\"the discount is:\", discount)\n",
        "  net_bill= (bill-discount)\n",
        "\n",
        "  print(\"the net_bill is:\", net_bill)\n",
        "\n",
        "elif bill>500 and bill<1000:\n",
        "\n",
        "  discount= bill*0.05\n",
        "\n",
        "  print(\"the discount is:\",discount)\n",
        "  net_bill= (bill-discount)\n",
        "  print(\"the net_bill is:\", net_bill)\n",
        "\n",
        "else:\n",
        "\n",
        "  discount= bill*0.03\n",
        "\n",
        "  print(\"the discount is:\", discount)\n",
        "  net_bill= (bill-discount)\n",
        "  print(\"the net_bill is:\", net_bill)\n"
      ],
      "metadata": {
        "colab": {
          "base_uri": "https://localhost:8080/"
        },
        "id": "V4_hQoTN4cqb",
        "outputId": "997726e0-9a3e-4f8d-d873-0138c6fb26b5"
      },
      "execution_count": null,
      "outputs": [
        {
          "output_type": "stream",
          "name": "stdout",
          "text": [
            "enter the a price is:500\n",
            "enter the b price is:100\n",
            "enter the c price is:200\n",
            "the discount is: 40.0\n",
            "the net_bill is: 760.0\n"
          ]
        }
      ]
    },
    {
      "cell_type": "code",
      "source": [
        "weather= int(input(\"enter the today weather is:\"))\n",
        "\n",
        "if weather<=10:\n",
        "  print(\"too cold\")\n",
        "\n",
        "elif weather>10 and weather<20:\n",
        "   print(\"mild cold\")\n",
        "\n",
        "else:\n",
        "   print(\"normal\")"
      ],
      "metadata": {
        "colab": {
          "base_uri": "https://localhost:8080/"
        },
        "id": "F0xxQTb0OVsf",
        "outputId": "e56f80d3-2546-45e2-890a-1804b6b38e5a"
      },
      "execution_count": null,
      "outputs": [
        {
          "output_type": "stream",
          "name": "stdout",
          "text": [
            "enter the today weather is:15\n",
            "mild cold\n"
          ]
        }
      ]
    },
    {
      "cell_type": "code",
      "source": [
        "num= float(input(\"enter a number:\"))\n",
        "\n",
        "if num>0:\n",
        "  print(\"the number is positive\")\n",
        "\n",
        "elif num<0:\n",
        "  print(\"the number is negative\")\n",
        "\n",
        "else:\n",
        "  print(\"the number is zero\")\n",
        "\n"
      ],
      "metadata": {
        "colab": {
          "base_uri": "https://localhost:8080/"
        },
        "id": "XHmyViaIHyVU",
        "outputId": "392d010e-cf86-49a7-b232-6519fe20152a"
      },
      "execution_count": null,
      "outputs": [
        {
          "output_type": "stream",
          "name": "stdout",
          "text": [
            "enter a number:0\n",
            "the number is zero\n"
          ]
        }
      ]
    },
    {
      "cell_type": "code",
      "source": [
        "units= int(input(\"enter number of units consumed:\"))\n",
        "\n",
        "if units<=100:\n",
        "  bill= units*5\n",
        "  print(\"the total electricity bill rs.:\", bill)\n",
        "\n",
        "elif units<=200:\n",
        "  bill= (100*5)+(units-100)*7\n",
        "  print(\"the total electricity bill rs.:\", bill)\n",
        "\n",
        "else:\n",
        "  bill= (100*5)+(100*7)+(units-200)*10\n",
        "  print(\"the total electricity bill rs.:\", bill)\n"
      ],
      "metadata": {
        "colab": {
          "base_uri": "https://localhost:8080/"
        },
        "id": "XMoiK1LCIaiL",
        "outputId": "c9edc01e-8956-44d2-ff31-765662acba48"
      },
      "execution_count": null,
      "outputs": [
        {
          "output_type": "stream",
          "name": "stdout",
          "text": [
            "enter number of units consumed:200\n",
            "the total electricity bill rs.: 1200\n"
          ]
        }
      ]
    },
    {
      "cell_type": "code",
      "source": [
        "correct_username= \"admin\"\n",
        "correct_password= \"pass123\"\n",
        "\n",
        "username= input(\"enter username:\")\n",
        "password= input(\"enter password:\")\n",
        "\n",
        "if username==correct_username and password==correct_password:\n",
        "   print(\"login successful\")\n",
        "\n",
        "elif username!= correct_username:\n",
        "  print(\"invalid username\")\n",
        "\n",
        "else:\n",
        "  print(\"invalid password\")\n"
      ],
      "metadata": {
        "colab": {
          "base_uri": "https://localhost:8080/"
        },
        "id": "NBJ5FN6_KHrY",
        "outputId": "4e1f6f43-da64-4c74-9b1e-39bcacceb7fa"
      },
      "execution_count": null,
      "outputs": [
        {
          "output_type": "stream",
          "name": "stdout",
          "text": [
            "enter username:admin\n",
            "enter password:pass1234\n",
            "invalid password\n"
          ]
        }
      ]
    },
    {
      "cell_type": "code",
      "source": [
        "number= int(input(\"enter an integer:\"))\n",
        "\n",
        "if number%2==0:\n",
        "  print(\"the number is even.\")\n",
        "\n",
        "else:\n",
        "  print(\"the number is odd.\")\n",
        "\n"
      ],
      "metadata": {
        "colab": {
          "base_uri": "https://localhost:8080/"
        },
        "id": "1r-41vvxNLa6",
        "outputId": "8950388c-4f1d-4108-ab02-67b81a8d75da"
      },
      "execution_count": null,
      "outputs": [
        {
          "output_type": "stream",
          "name": "stdout",
          "text": [
            "enter an integer:3\n",
            "the number is odd.\n"
          ]
        }
      ]
    },
    {
      "cell_type": "code",
      "source": [
        "#Loops: Repeating task\n",
        "# for loop:\n",
        "\n",
        "fruits= (\"apple\",\"mango\",\"banana\",\"orange\",\"kiwi\")\n",
        "\n",
        "# print(fruits(2)) # index no.\n",
        "\n",
        "for fruit in fruits:\n",
        "\n",
        "  print(fruit)\n"
      ],
      "metadata": {
        "id": "7NSrDsFJhpgC",
        "colab": {
          "base_uri": "https://localhost:8080/"
        },
        "outputId": "8e71db52-2241-458a-f208-92109eaf50e0"
      },
      "execution_count": null,
      "outputs": [
        {
          "output_type": "stream",
          "name": "stdout",
          "text": [
            "apple\n",
            "mango\n",
            "banana\n",
            "orange\n",
            "kiwi\n"
          ]
        }
      ]
    },
    {
      "cell_type": "code",
      "source": [
        "#loop with range\n",
        "for i in range(1,10):# RANGE(STARTING_POINT,ENDINGPOINT-1)\n",
        "  print(i)\n"
      ],
      "metadata": {
        "colab": {
          "base_uri": "https://localhost:8080/"
        },
        "id": "70ddaApliwLk",
        "outputId": "e9b8fbfb-3b66-4ae5-bdb0-7a24bd7b46c2"
      },
      "execution_count": null,
      "outputs": [
        {
          "output_type": "stream",
          "name": "stdout",
          "text": [
            "1\n",
            "2\n",
            "3\n",
            "4\n",
            "5\n",
            "6\n",
            "7\n",
            "8\n",
            "9\n"
          ]
        }
      ]
    },
    {
      "cell_type": "code",
      "source": [
        "# Loop with range()\n",
        "\n",
        "num=int(input(\"enter the no : \"))\n",
        "\n",
        "for i in range(1,11): #range(starting_point, endingpoint-1)\n",
        "    mul=num*i\n",
        "\n",
        "    print(f\" {num}*{i}={mul}\")\n",
        "\n",
        "  #F-string (it will allow you to write variable and string together)"
      ],
      "metadata": {
        "colab": {
          "base_uri": "https://localhost:8080/"
        },
        "id": "azZbYkYCl60x",
        "outputId": "c87d83d9-fe09-48e7-c0ac-b00f9ae43aa1"
      },
      "execution_count": null,
      "outputs": [
        {
          "output_type": "stream",
          "name": "stdout",
          "text": [
            "enter the no : 7\n",
            " 7*1=7\n",
            " 7*2=14\n",
            " 7*3=21\n",
            " 7*4=28\n",
            " 7*5=35\n",
            " 7*6=42\n",
            " 7*7=49\n",
            " 7*8=56\n",
            " 7*9=63\n",
            " 7*10=70\n"
          ]
        }
      ]
    },
    {
      "cell_type": "code",
      "source": [
        "#loop with range\n",
        "for i in range(1,11):# RANGE(STARTING_POINT,ENDINGPOINT-1)\n",
        "  print(i)\n"
      ],
      "metadata": {
        "id": "gFtqpmeI-peq",
        "colab": {
          "base_uri": "https://localhost:8080/"
        },
        "outputId": "e8448367-b15f-404e-8b5d-159165e8a6ed"
      },
      "execution_count": null,
      "outputs": [
        {
          "output_type": "stream",
          "name": "stdout",
          "text": [
            "1\n",
            "2\n",
            "3\n",
            "4\n",
            "5\n",
            "6\n",
            "7\n",
            "8\n",
            "9\n",
            "10\n"
          ]
        }
      ]
    },
    {
      "cell_type": "code",
      "source": [
        "num=int(input(\"enter the no : \"))\n",
        "\n",
        "for i in range(1,11): #range(starting_point, endingpoint-1)\n",
        "    mul=num*i\n",
        "\n",
        "    print(f\" {num}*{i}={mul}\")"
      ],
      "metadata": {
        "colab": {
          "base_uri": "https://localhost:8080/"
        },
        "id": "FV3SZg4iKaAX",
        "outputId": "989b5a01-965d-4ad2-f8e1-547103f4d6ea"
      },
      "execution_count": null,
      "outputs": [
        {
          "output_type": "stream",
          "name": "stdout",
          "text": [
            "enter the no : 5\n",
            " 5*1=5\n",
            " 5*2=10\n",
            " 5*3=15\n",
            " 5*4=20\n",
            " 5*5=25\n",
            " 5*6=30\n",
            " 5*7=35\n",
            " 5*8=40\n",
            " 5*9=45\n",
            " 5*10=50\n"
          ]
        }
      ]
    },
    {
      "cell_type": "code",
      "source": [
        "n=int(input(\"enter the number n:\"))\n",
        "\n",
        "total = 0\n",
        "\n",
        "for i in range(1, n+1):\n",
        "\n",
        "  total +=i\n",
        "\n",
        "print (\"sum\",total)\n",
        "\n",
        "\n"
      ],
      "metadata": {
        "id": "xTj-yVafLWme",
        "colab": {
          "base_uri": "https://localhost:8080/"
        },
        "outputId": "48a54b87-e9c5-4eb1-cdae-9cb610982bb9"
      },
      "execution_count": null,
      "outputs": [
        {
          "output_type": "stream",
          "name": "stdout",
          "text": [
            "enter the number n:5\n",
            "sum 15\n"
          ]
        }
      ]
    },
    {
      "cell_type": "code",
      "source": [
        "text = \"hello\"\n",
        "\n",
        "for char in text:\n",
        "\n",
        "     print(char)"
      ],
      "metadata": {
        "colab": {
          "base_uri": "https://localhost:8080/"
        },
        "id": "x2_MuHrrQ7mL",
        "outputId": "f31d785c-a58b-4eeb-a2ad-bbdcaedf9606"
      },
      "execution_count": null,
      "outputs": [
        {
          "output_type": "stream",
          "name": "stdout",
          "text": [
            "h\n",
            "e\n",
            "l\n",
            "l\n",
            "o\n"
          ]
        }
      ]
    },
    {
      "cell_type": "code",
      "source": [
        "num = int(input(\"enter a number:\"))\n",
        "\n",
        "if num>0:\n",
        "  result = 1\n",
        "  for i in range (1, num+1):\n",
        "    result*=i\n",
        "    print(result)\n",
        "else:\n",
        "  print(\"enter the positive no\")\n"
      ],
      "metadata": {
        "id": "tW763WMI1auL"
      },
      "execution_count": null,
      "outputs": []
    },
    {
      "cell_type": "code",
      "source": [
        "for i in range (10,0,-1):\n",
        "\n",
        "  print(i)"
      ],
      "metadata": {
        "colab": {
          "base_uri": "https://localhost:8080/"
        },
        "id": "CR0zXaIg18CD",
        "outputId": "f3836c8b-0455-4383-edd6-e495acf17010"
      },
      "execution_count": null,
      "outputs": [
        {
          "output_type": "stream",
          "name": "stdout",
          "text": [
            "10\n",
            "9\n",
            "8\n",
            "7\n",
            "6\n",
            "5\n",
            "4\n",
            "3\n",
            "2\n",
            "1\n"
          ]
        }
      ]
    },
    {
      "cell_type": "code",
      "source": [
        "\n",
        "\n",
        "#Dictionaries: key value pair , keys- unique nd immutable\n",
        "\n",
        "my_dict = {\n",
        "          \"name\" :\"Pooja\",\n",
        "          \"age\" : 30,\n",
        "          \"city\": \"Chd\"\n",
        "\n",
        "}\n",
        "\n",
        "print(my_dict)\n",
        "#access a values\n",
        "print(my_dict[\"name\"])\n",
        "\n",
        "#add or update an item\n",
        "\n",
        "my_dict[\"age\"] =35\n",
        "\n",
        "print(my_dict)\n",
        "\n",
        "#get all keys or values\n",
        "\n",
        "key= my_dict.keys()\n",
        "\n",
        "print(key)\n",
        "\n",
        "values= my_dict.values()\n",
        "\n",
        "print(values)"
      ],
      "metadata": {
        "id": "c6A_kyvWZ02k",
        "colab": {
          "base_uri": "https://localhost:8080/"
        },
        "outputId": "4be5401b-cc99-409a-e99c-3f9ef88abbd1"
      },
      "execution_count": null,
      "outputs": [
        {
          "output_type": "stream",
          "name": "stdout",
          "text": [
            "{'name': 'Pooja', 'age': 30, 'city': 'Chd'}\n",
            "Pooja\n",
            "{'name': 'Pooja', 'age': 35, 'city': 'Chd'}\n",
            "dict_keys(['name', 'age', 'city'])\n",
            "dict_values(['Pooja', 35, 'Chd'])\n"
          ]
        }
      ]
    },
    {
      "cell_type": "code",
      "source": [
        " #concatenate\n",
        "\n",
        "first = \"Hello\"\n",
        "second = \"World\"\n",
        "\n",
        "result = first + second\n",
        "print(result)\n"
      ],
      "metadata": {
        "id": "gC0rEaRvnM-m"
      },
      "execution_count": null,
      "outputs": []
    },
    {
      "cell_type": "code",
      "source": [
        "#repetition\n",
        "\n",
        "laugh = \"ha\"\n",
        "print(laugh*5)\n",
        "print(laugh.upper())\n",
        "\n",
        "\n"
      ],
      "metadata": {
        "colab": {
          "base_uri": "https://localhost:8080/"
        },
        "id": "kU42rgWZnSfS",
        "outputId": "bd12eac7-931f-428e-801d-6fd9be9cc3ce"
      },
      "execution_count": null,
      "outputs": [
        {
          "output_type": "stream",
          "name": "stdout",
          "text": [
            "hahahahaha\n",
            "HA\n"
          ]
        }
      ]
    },
    {
      "cell_type": "code",
      "source": [
        "#replacing text\n",
        "text = \"Python is fun\"\n",
        "new_text = text.replace(\"fun\", \"awesome\")\n",
        "print(new_text)\n"
      ],
      "metadata": {
        "colab": {
          "base_uri": "https://localhost:8080/"
        },
        "id": "QicFJeGmnYKz",
        "outputId": "7876f76f-39a9-4969-b960-787ce25229a0"
      },
      "execution_count": null,
      "outputs": [
        {
          "output_type": "stream",
          "name": "stdout",
          "text": [
            "Python is awesome\n"
          ]
        }
      ]
    },
    {
      "cell_type": "code",
      "source": [
        "#substring\n",
        "\n",
        "msg= \"Python in awesome\"\n",
        "print(msg.find(\"Python\"))\n"
      ],
      "metadata": {
        "colab": {
          "base_uri": "https://localhost:8080/"
        },
        "id": "8Y1C6P8ynbaq",
        "outputId": "d4bf7aac-c49d-4292-b37e-bd0860e38def"
      },
      "execution_count": null,
      "outputs": [
        {
          "output_type": "stream",
          "name": "stdout",
          "text": [
            "0\n"
          ]
        }
      ]
    },
    {
      "cell_type": "code",
      "source": [
        "#Splitting nd joining\n",
        "data= \"apple,banana,cherry\"\n",
        "\n",
        "fruits= data.split(\",\")\n",
        "print(fruits)\n",
        "\n",
        "joined = \" | \".join(fruits)\n",
        "print(joined)"
      ],
      "metadata": {
        "colab": {
          "base_uri": "https://localhost:8080/"
        },
        "id": "Oj7k-nKpngb5",
        "outputId": "4fad360c-3830-471c-ac02-f7ea000c965b"
      },
      "execution_count": null,
      "outputs": [
        {
          "output_type": "stream",
          "name": "stdout",
          "text": [
            "['apple', 'banana', 'cherry']\n",
            "apple | banana | cherry\n"
          ]
        }
      ]
    },
    {
      "cell_type": "code",
      "source": [
        "#Data Stucture : list, tuples, set, dictionaries\n",
        "\n",
        "\n",
        "#List and Tuples : used to store collection of items\n",
        "\n",
        "#how to create list :\n",
        "\n",
        "fruits= ['apple', 'banana', 'cherry','mango'] #list mutable - add, remove, modify\n",
        "\n",
        "#Access the element\n",
        "\n",
        "print(fruits[2])\n",
        "\n",
        "#modify element\n",
        "\n",
        "fruits[1] = 'bluberry'\n",
        "\n",
        "print(fruits)\n",
        "\n",
        "#Add new element\n",
        "\n",
        "fruits.append('orange')\n",
        "\n",
        "print(fruits)\n",
        "\n",
        "#removing element\n",
        "\n",
        "fruits.remove('cherry')\n",
        "\n",
        "print(fruits)\n",
        "\n"
      ],
      "metadata": {
        "colab": {
          "base_uri": "https://localhost:8080/"
        },
        "id": "ij51YwQ2nxPg",
        "outputId": "fcf704a0-5610-4655-aa83-6ee361117d27"
      },
      "execution_count": null,
      "outputs": [
        {
          "output_type": "stream",
          "name": "stdout",
          "text": [
            "cherry\n",
            "['apple', 'bluberry', 'cherry', 'mango']\n",
            "['apple', 'bluberry', 'cherry', 'mango', 'orange']\n",
            "['apple', 'bluberry', 'mango', 'orange']\n"
          ]
        }
      ]
    },
    {
      "cell_type": "code",
      "source": [
        "# Tuples : like a list, but immutable (you can not change its content after creation)\n",
        "\n",
        "colors= ('red', 'green', 'blue')\n",
        "\n",
        "print(colors)"
      ],
      "metadata": {
        "colab": {
          "base_uri": "https://localhost:8080/"
        },
        "id": "j9zaU3DJoqwQ",
        "outputId": "1fac015a-ac65-4c2b-82c9-3cba4fd0c066"
      },
      "execution_count": null,
      "outputs": [
        {
          "output_type": "stream",
          "name": "stdout",
          "text": [
            "('red', 'green', 'blue')\n"
          ]
        }
      ]
    },
    {
      "cell_type": "code",
      "source": [
        " #Set : unorderd collection of unique elements(no duplicates elements allowed), immutable, no indexing allowed.\n",
        "\n",
        "\n",
        "my_set = {1,2,3,4 }\n",
        "\n",
        "print(my_set)\n",
        "a= {1,2,3}\n",
        "b= {3,4,5}\n",
        "\n",
        "#union :\n",
        "\n",
        "print(a.union(b))\n",
        "\n",
        "#intersection\n",
        "\n",
        "print(a.intersection(b))"
      ],
      "metadata": {
        "colab": {
          "base_uri": "https://localhost:8080/"
        },
        "id": "Uni1465loykf",
        "outputId": "5353db1e-e61f-451e-8c49-e9572d331606"
      },
      "execution_count": null,
      "outputs": [
        {
          "output_type": "stream",
          "name": "stdout",
          "text": [
            "{1, 2, 3, 4}\n",
            "{1, 2, 3, 4, 5}\n",
            "{3}\n"
          ]
        }
      ]
    },
    {
      "cell_type": "code",
      "source": [
        "\n",
        "#function and Module: function is a reusable block of codes that perform a specific task\n",
        "\n",
        "#user defined function :\n",
        "\n",
        "def greet(name): #how we declare a function\n",
        "\n",
        "  print(f\"Hello, {name}\")\n",
        "\n",
        "#calling a function\n",
        "\n",
        "greet(\"Vanshika\")"
      ],
      "metadata": {
        "colab": {
          "base_uri": "https://localhost:8080/"
        },
        "id": "BIcP3i40ujTO",
        "outputId": "a7f24733-499f-4f1e-c353-16ea0581536a"
      },
      "execution_count": null,
      "outputs": [
        {
          "output_type": "stream",
          "name": "stdout",
          "text": [
            "Hello, Vanshika\n"
          ]
        }
      ]
    },
    {
      "cell_type": "code",
      "source": [
        "a= 10\n",
        "name= \"Vanshika\"\n",
        "\n",
        "print (f\" The value of a is {a} {name}  \")"
      ],
      "metadata": {
        "colab": {
          "base_uri": "https://localhost:8080/"
        },
        "id": "0Sv7SLkUz3Vz",
        "outputId": "4047c84c-a095-4b7e-a94f-f54c3057b7c0"
      },
      "execution_count": null,
      "outputs": [
        {
          "output_type": "stream",
          "name": "stdout",
          "text": [
            " The value of a is 10 Vanshika  \n"
          ]
        }
      ]
    },
    {
      "cell_type": "code",
      "source": [
        "def add(a,b): #create a function with 2 variable (Function with return value)\n",
        "  return a+b # sum of variable function will resturn\n",
        "\n",
        "result = add(15,30) #function calling\n",
        "\n",
        "print(result)"
      ],
      "metadata": {
        "colab": {
          "base_uri": "https://localhost:8080/"
        },
        "id": "uw_7oEiTz65Z",
        "outputId": "c9aaa93a-57c9-4fb3-f02c-e4ee9373d63d"
      },
      "execution_count": null,
      "outputs": [
        {
          "output_type": "stream",
          "name": "stdout",
          "text": [
            "45\n"
          ]
        }
      ]
    },
    {
      "cell_type": "code",
      "source": [
        "def age_detect(age):\n",
        "  if age>18:\n",
        "     print(\"you are young\")\n",
        "  else:\n",
        "     print(\"you are kid\")\n",
        "\n",
        "age_detect(12)"
      ],
      "metadata": {
        "colab": {
          "base_uri": "https://localhost:8080/"
        },
        "id": "UBIJPkk1z-HC",
        "outputId": "cfc1b61b-cbbb-4c20-e6a2-44b47d71b2c6"
      },
      "execution_count": null,
      "outputs": [
        {
          "output_type": "stream",
          "name": "stdout",
          "text": [
            "you are kid\n"
          ]
        }
      ]
    },
    {
      "cell_type": "code",
      "source": [
        "#Function with Dafualt Parameter\n",
        "\n",
        "def greet(name=\"temp\"):\n",
        "  print(f\"welcome {name}\")\n",
        "greet(\"vanshika\")\n",
        "\n",
        "greet()"
      ],
      "metadata": {
        "colab": {
          "base_uri": "https://localhost:8080/"
        },
        "id": "HNy9qTCn0BDC",
        "outputId": "3208360b-5e7c-4c8b-ed25-3aa50e1aa9cb"
      },
      "execution_count": null,
      "outputs": [
        {
          "output_type": "stream",
          "name": "stdout",
          "text": [
            "welcome vanshika\n",
            "welcome temp\n"
          ]
        }
      ]
    },
    {
      "cell_type": "code",
      "source": [
        "def check_even_odd(number):\n",
        "    if number % 2 == 0:\n",
        "        return \"even\"\n",
        "    else:\n",
        "        return \"odd\""
      ],
      "metadata": {
        "id": "sqgdtCyk0ECK"
      },
      "execution_count": null,
      "outputs": []
    },
    {
      "cell_type": "code",
      "source": [
        "def factorial(n):\n",
        "    if n < 0:\n",
        "        return \"Factorial is not defined for negative numbers.\"\n",
        "    elif n == 0 or n == 1:\n",
        "        return 1\n",
        "    else:\n",
        "        return n * factorial(n - 1)"
      ],
      "metadata": {
        "id": "m5BhyeaC0dtQ"
      },
      "execution_count": null,
      "outputs": []
    },
    {
      "cell_type": "code",
      "source": [
        "def greet_user(name=\"Guest\"):\n",
        "    print(f\"Hello, {name}!\")"
      ],
      "metadata": {
        "id": "3Se_33rb0kbJ"
      },
      "execution_count": null,
      "outputs": []
    },
    {
      "cell_type": "code",
      "source": [
        "a= int(input(\"enter the a value is:\"))\n",
        "b= int(input(\"enter the b value is:\"))\n",
        "c= int(input(\"enter the c value is:\"))\n",
        "\n",
        "def find_greatest(a, b, c):\n",
        "\n",
        "    if a >= b and a >= c:\n",
        "        return a\n",
        "\n",
        "    elif b >= a and b >= c:\n",
        "        return b\n",
        "\n",
        "    else:\n",
        "        return c\n"
      ],
      "metadata": {
        "colab": {
          "base_uri": "https://localhost:8080/"
        },
        "id": "rraEK5Cy0rBR",
        "outputId": "94f71e18-e607-4074-c309-9be27a55e028"
      },
      "execution_count": null,
      "outputs": [
        {
          "name": "stdout",
          "output_type": "stream",
          "text": [
            "enter the a value is:10\n",
            "enter the b value is:20\n",
            "enter the c value is:15\n"
          ]
        }
      ]
    },
    {
      "cell_type": "code",
      "source": [
        "def find_greatest(a, b, c):\n",
        "    return max(a, b, c)\n"
      ],
      "metadata": {
        "id": "iDm8-DvI05c4"
      },
      "execution_count": null,
      "outputs": []
    },
    {
      "cell_type": "code",
      "source": [
        "def quiz(ques):\n",
        "  if ques== \"Delhi\":\n",
        "     print(\"You are correct\")\n",
        "  else:\n",
        "     print(\"You are wrong\")\n",
        "\n",
        "QUE= input(\"what is the capital of India? \")\n",
        "\n",
        "quiz(QUE)"
      ],
      "metadata": {
        "colab": {
          "base_uri": "https://localhost:8080/"
        },
        "id": "6xTslkhwqnT_",
        "outputId": "1e30534c-9721-4be6-b803-835e8f1ab3e8"
      },
      "execution_count": null,
      "outputs": [
        {
          "output_type": "stream",
          "name": "stdout",
          "text": [
            "what is the capital of India? Delhi\n",
            "You are correct\n"
          ]
        }
      ]
    },
    {
      "cell_type": "code",
      "source": [
        "#Make a calculator using function\n",
        "\n",
        "def add(a,b):\n",
        "  return a+b\n",
        "\n",
        "def sub(a,b):\n",
        "  return a-b\n",
        "\n",
        "def mul(a,b):\n",
        "  return a*b\n",
        "\n",
        "def div(a,b):\n",
        "  return a/b\n",
        "\n",
        "\n",
        "value_1 = int(input(\"Enter the first value : \"))\n",
        "value_2 = int(input(\"Enter the second value : \"))\n",
        "operation = input(\"Enter the operation : \")\n",
        "\n",
        "if operation == \"+\":\n",
        "  result = add(value_1, value_2)\n",
        "  print(result)\n",
        "\n",
        "elif operation == \"-\":\n",
        "  result = sub(value_1, value_2)\n",
        "  print(result)\n",
        "\n",
        "elif operation == \"*\":\n",
        "  result = mul(value_1, value_2)\n",
        "  print(result)\n",
        "\n",
        "elif operation == \"/\":\n",
        "  result = div(value_1, value_2)\n",
        "  print(result)\n",
        "\n",
        "else:\n",
        "  print(\"Invalid operation\")"
      ],
      "metadata": {
        "colab": {
          "base_uri": "https://localhost:8080/"
        },
        "id": "DZ-yYAMZ1V9M",
        "outputId": "06112df8-6a73-4d4c-8663-abff022a4c7e"
      },
      "execution_count": null,
      "outputs": [
        {
          "output_type": "stream",
          "name": "stdout",
          "text": [
            "Enter the first value : 20\n",
            "Enter the second value : 10\n",
            "Enter the operation : /\n",
            "2.0\n"
          ]
        }
      ]
    },
    {
      "cell_type": "code",
      "source": [
        "#Modules :  Module is a python file containing functions, classes or variables that you can import and reuse in other python programs\n",
        "# 2types : Built in module, user defined modules\n",
        "\n",
        "#Built-in modules : math, datetime, random\n",
        "\n",
        "\n",
        "import math\n",
        "\n",
        "print(math.sqrt(16))\n",
        "\n",
        "print(math.pi)\n",
        "\n",
        "print(math.factorial(10))"
      ],
      "metadata": {
        "colab": {
          "base_uri": "https://localhost:8080/"
        },
        "id": "Lk9ZmzGD1bKz",
        "outputId": "e8d46cf9-132a-4a46-d7bf-ff527215ed47"
      },
      "execution_count": null,
      "outputs": [
        {
          "output_type": "stream",
          "name": "stdout",
          "text": [
            "4.0\n",
            "3.141592653589793\n",
            "3628800\n"
          ]
        }
      ]
    },
    {
      "cell_type": "code",
      "source": [
        "import random\n",
        "\n",
        "#print(random.randint(11,20))\n",
        "print(random.choice([1,2,3,4,5]))"
      ],
      "metadata": {
        "colab": {
          "base_uri": "https://localhost:8080/"
        },
        "id": "F96_WVyC1efy",
        "outputId": "d9d2b3d0-5b6d-4ea6-c4dc-fd2a9b85ee27"
      },
      "execution_count": null,
      "outputs": [
        {
          "output_type": "stream",
          "name": "stdout",
          "text": [
            "1\n"
          ]
        }
      ]
    },
    {
      "cell_type": "code",
      "source": [
        "import datetime\n",
        "\n",
        "\n",
        "print(datetime.datetime.now())\n"
      ],
      "metadata": {
        "colab": {
          "base_uri": "https://localhost:8080/"
        },
        "id": "d2CMFvl31kli",
        "outputId": "fd04a471-1cd4-425a-bc15-ad21b527e548"
      },
      "execution_count": null,
      "outputs": [
        {
          "output_type": "stream",
          "name": "stdout",
          "text": [
            "2025-08-06 05:59:27.338626\n"
          ]
        }
      ]
    },
    {
      "cell_type": "code",
      "source": [
        "%%writefile sunita.py\n",
        "#create a file with .py extension\n",
        "\n",
        "def greet(name):\n",
        "  return f\"Hi, {name}\"\n",
        "\n",
        "def mul(a,b):\n",
        "  return a*b\n",
        "\n",
        "def div(a,b):\n",
        "  return a/b\n"
      ],
      "metadata": {
        "colab": {
          "base_uri": "https://localhost:8080/"
        },
        "id": "E65WYkC1T2d2",
        "outputId": "ed736729-7183-4926-89f7-0ce3d6943693"
      },
      "execution_count": null,
      "outputs": [
        {
          "output_type": "stream",
          "name": "stdout",
          "text": [
            "Overwriting sunita.py\n"
          ]
        }
      ]
    },
    {
      "cell_type": "code",
      "source": [
        "import sunita\n",
        "\n",
        "print(sunita.greet(\"Astha\"))\n",
        "\n",
        "print(sunita.mul(10,20))\n",
        "\n",
        "print(sunita.div(20,10))\n"
      ],
      "metadata": {
        "colab": {
          "base_uri": "https://localhost:8080/"
        },
        "id": "KHhSPnBRVOW8",
        "outputId": "2b6c9f00-01f5-4353-b3d2-13bea230503a"
      },
      "execution_count": null,
      "outputs": [
        {
          "output_type": "stream",
          "name": "stdout",
          "text": [
            "Hi, Astha\n",
            "200\n",
            "2.0\n"
          ]
        }
      ]
    },
    {
      "cell_type": "code",
      "source": [],
      "metadata": {
        "id": "5jo0b2LAkXyV"
      },
      "execution_count": null,
      "outputs": []
    }
  ]
}